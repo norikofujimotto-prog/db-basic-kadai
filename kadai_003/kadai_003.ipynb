{
  "nbformat": 4,
  "nbformat_minor": 0,
  "metadata": {
    "colab": {
      "provenance": []
    },
    "kernelspec": {
      "name": "python3",
      "display_name": "Python 3"
    },
    "language_info": {
      "name": "python"
    }
  },
  "cells": [
    {
      "cell_type": "code",
      "execution_count": 2,
      "metadata": {
        "colab": {
          "base_uri": "https://localhost:8080/"
        },
        "id": "P_bSzZRULCCd",
        "outputId": "e4f01879-75f3-4177-c79d-d38fc3e19b00"
      },
      "outputs": [
        {
          "output_type": "stream",
          "name": "stdout",
          "text": [
            "[[0 1]\n",
            " [2 3]\n",
            " [4 5]]\n",
            "[[0 1 2 3]\n",
            " [4 5 6 7]]\n"
          ]
        }
      ],
      "source": [
        "# numpyの読み込み\n",
        "import numpy as np\n",
        "\n",
        "# AとBの行列を格納する多次元配列のコードを記述する\n",
        "A = np.array([\n",
        "    [0, 1],\n",
        "    [2, 3],\n",
        "    [4, 5]\n",
        "])\n",
        "\n",
        "B = np.array([\n",
        "    [0, 1, 2, 3],\n",
        "    [4, 5, 6, 7]\n",
        "])\n",
        "\n",
        "print(A)\n",
        "print(B)\n"
      ]
    },
    {
      "cell_type": "code",
      "source": [
        "# AとBの積算\n",
        "C_at = A @ B\n",
        "\n",
        "print(\"行列 A B の積 (C_at):\")\n",
        "print(C_at)"
      ],
      "metadata": {
        "id": "cNFe_cVJLPWj",
        "outputId": "0d25b09f-bc66-4ba3-8897-c44adb871452",
        "colab": {
          "base_uri": "https://localhost:8080/"
        }
      },
      "execution_count": 6,
      "outputs": [
        {
          "output_type": "stream",
          "name": "stdout",
          "text": [
            "行列 A B の積 (C_at):\n",
            "[[ 4  5  6  7]\n",
            " [12 17 22 27]\n",
            " [20 29 38 47]]\n"
          ]
        }
      ]
    },
    {
      "cell_type": "code",
      "source": [
        "# 行列 C の要素全体の最大値を求める\n",
        "max_value = np.max(C_at)\n",
        "\n",
        "print(f\"行列 C_at の最大値: {max_value}\")"
      ],
      "metadata": {
        "colab": {
          "base_uri": "https://localhost:8080/"
        },
        "id": "z8lTZOtd06lz",
        "outputId": "d5f1be00-bbaa-4fcd-cc02-7921fb9afd3a"
      },
      "execution_count": 9,
      "outputs": [
        {
          "output_type": "stream",
          "name": "stdout",
          "text": [
            "行列 C_at の最大値: 47\n"
          ]
        }
      ]
    }
  ]
}